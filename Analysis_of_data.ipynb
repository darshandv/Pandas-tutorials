{
 "cells": [
  {
   "cell_type": "markdown",
   "metadata": {},
   "source": [
    "# Introduction to Data Science"
   ]
  },
  {
   "cell_type": "markdown",
   "metadata": {},
   "source": [
    "## Introduction to different functions  of Pandas."
   ]
  },
  {
   "cell_type": "markdown",
   "metadata": {},
   "source": [
    "## Data used : Complete details of All the IPL season till 2017.\n",
    "The data was taken from https://www.kaggle.com/somashekharareddy/ipl-2017\n",
    "\n",
    "Author : Darshan D V"
   ]
  },
  {
   "cell_type": "code",
   "execution_count": 1,
   "metadata": {
    "collapsed": true
   },
   "outputs": [],
   "source": [
    "import numpy as np\n",
    "import pandas as pd"
   ]
  },
  {
   "cell_type": "markdown",
   "metadata": {},
   "source": [
    "Let's start by loading the data. We'll be using ***DIM_PLAYER_MATCH.csv*** to get to know different functions of pandas.\n",
    "To start with we have *pandas.read_csv* which loads the data as a DataFrame (If you don't know what is Dataframe please refer to the previous tutorial on Introduction to Data Structures that pandas operates in.)\n",
    "\n",
    "Pandas has many read_* functions to read data from multiples data sources or formats like json, jdbc, excel, pickel (python serialized objects) etc."
   ]
  },
  {
   "cell_type": "code",
   "execution_count": 2,
   "metadata": {
    "collapsed": false
   },
   "outputs": [],
   "source": [
    "player = pd.read_csv(\"Data/DIM_PLAYER.csv\",delimiter=',',encoding = \"ISO-8859-1\")\n",
    "player_match = pd.read_csv(\"Data/DIM_PLAYER_MATCH.csv\",delimiter=',',\n",
    "                           encoding = \"ISO-8859-1\",skiprows=[1])\n",
    "team = pd.read_csv(\"Data/DIM_TEAM.csv\",delimiter=',',encoding = \"ISO-8859-1\")"
   ]
  },
  {
   "cell_type": "code",
   "execution_count": 3,
   "metadata": {
    "collapsed": false
   },
   "outputs": [
    {
     "data": {
      "text/html": [
       "<div>\n",
       "<table border=\"1\" class=\"dataframe\">\n",
       "  <thead>\n",
       "    <tr style=\"text-align: right;\">\n",
       "      <th></th>\n",
       "      <th>Player_match_SK</th>\n",
       "      <th>PlayerMatch_key</th>\n",
       "      <th>Match_Id</th>\n",
       "      <th>Player_Id</th>\n",
       "      <th>Player_Name</th>\n",
       "      <th>DOB</th>\n",
       "      <th>Batting_hand</th>\n",
       "      <th>Bowling_skill</th>\n",
       "      <th>Country_Name</th>\n",
       "      <th>Role_Desc</th>\n",
       "      <th>...</th>\n",
       "      <th>Season_year</th>\n",
       "      <th>is_manofThematch</th>\n",
       "      <th>Age_As_on_match</th>\n",
       "      <th>IsPlayers_Team_won</th>\n",
       "      <th>Batting_Status</th>\n",
       "      <th>Bowling_Status</th>\n",
       "      <th>Player_Captain</th>\n",
       "      <th>Opposit_captain</th>\n",
       "      <th>Player_keeper</th>\n",
       "      <th>Opposit_keeper</th>\n",
       "    </tr>\n",
       "  </thead>\n",
       "  <tbody>\n",
       "    <tr>\n",
       "      <th>0</th>\n",
       "      <td>12694</td>\n",
       "      <td>33598700006</td>\n",
       "      <td>335987</td>\n",
       "      <td>6</td>\n",
       "      <td>R Dravid</td>\n",
       "      <td>1973-01-11</td>\n",
       "      <td>Right-hand bat</td>\n",
       "      <td>Right-arm offbreak</td>\n",
       "      <td>India</td>\n",
       "      <td>Captain</td>\n",
       "      <td>...</td>\n",
       "      <td>2008</td>\n",
       "      <td>0</td>\n",
       "      <td>35</td>\n",
       "      <td>0</td>\n",
       "      <td>NaN</td>\n",
       "      <td>NaN</td>\n",
       "      <td>R Dravid</td>\n",
       "      <td>SC Ganguly</td>\n",
       "      <td>MV Boucher</td>\n",
       "      <td>WP Saha</td>\n",
       "    </tr>\n",
       "    <tr>\n",
       "      <th>1</th>\n",
       "      <td>12695</td>\n",
       "      <td>33598700007</td>\n",
       "      <td>335987</td>\n",
       "      <td>7</td>\n",
       "      <td>W Jaffer</td>\n",
       "      <td>1978-02-16</td>\n",
       "      <td>Right-hand bat</td>\n",
       "      <td>Right-arm offbreak</td>\n",
       "      <td>India</td>\n",
       "      <td>Player</td>\n",
       "      <td>...</td>\n",
       "      <td>2008</td>\n",
       "      <td>0</td>\n",
       "      <td>30</td>\n",
       "      <td>0</td>\n",
       "      <td>NaN</td>\n",
       "      <td>NaN</td>\n",
       "      <td>R Dravid</td>\n",
       "      <td>SC Ganguly</td>\n",
       "      <td>MV Boucher</td>\n",
       "      <td>WP Saha</td>\n",
       "    </tr>\n",
       "    <tr>\n",
       "      <th>2</th>\n",
       "      <td>12696</td>\n",
       "      <td>33598700008</td>\n",
       "      <td>335987</td>\n",
       "      <td>8</td>\n",
       "      <td>V Kohli</td>\n",
       "      <td>1988-11-05</td>\n",
       "      <td>Right-hand bat</td>\n",
       "      <td>Right-arm medium</td>\n",
       "      <td>India</td>\n",
       "      <td>Player</td>\n",
       "      <td>...</td>\n",
       "      <td>2008</td>\n",
       "      <td>0</td>\n",
       "      <td>20</td>\n",
       "      <td>0</td>\n",
       "      <td>NaN</td>\n",
       "      <td>NaN</td>\n",
       "      <td>R Dravid</td>\n",
       "      <td>SC Ganguly</td>\n",
       "      <td>MV Boucher</td>\n",
       "      <td>WP Saha</td>\n",
       "    </tr>\n",
       "    <tr>\n",
       "      <th>3</th>\n",
       "      <td>12697</td>\n",
       "      <td>33598700009</td>\n",
       "      <td>335987</td>\n",
       "      <td>9</td>\n",
       "      <td>JH Kallis</td>\n",
       "      <td>1975-10-16</td>\n",
       "      <td>Right-hand bat</td>\n",
       "      <td>Right-arm fast-medium</td>\n",
       "      <td>South Africa</td>\n",
       "      <td>Player</td>\n",
       "      <td>...</td>\n",
       "      <td>2008</td>\n",
       "      <td>0</td>\n",
       "      <td>33</td>\n",
       "      <td>0</td>\n",
       "      <td>NaN</td>\n",
       "      <td>NaN</td>\n",
       "      <td>R Dravid</td>\n",
       "      <td>SC Ganguly</td>\n",
       "      <td>MV Boucher</td>\n",
       "      <td>WP Saha</td>\n",
       "    </tr>\n",
       "    <tr>\n",
       "      <th>4</th>\n",
       "      <td>12698</td>\n",
       "      <td>33598700010</td>\n",
       "      <td>335987</td>\n",
       "      <td>10</td>\n",
       "      <td>CL White</td>\n",
       "      <td>1983-08-18</td>\n",
       "      <td>Right-hand bat</td>\n",
       "      <td>Legbreak googly</td>\n",
       "      <td>Australia</td>\n",
       "      <td>Player</td>\n",
       "      <td>...</td>\n",
       "      <td>2008</td>\n",
       "      <td>0</td>\n",
       "      <td>25</td>\n",
       "      <td>0</td>\n",
       "      <td>NaN</td>\n",
       "      <td>NaN</td>\n",
       "      <td>R Dravid</td>\n",
       "      <td>SC Ganguly</td>\n",
       "      <td>MV Boucher</td>\n",
       "      <td>WP Saha</td>\n",
       "    </tr>\n",
       "  </tbody>\n",
       "</table>\n",
       "<p>5 rows × 22 columns</p>\n",
       "</div>"
      ],
      "text/plain": [
       "   Player_match_SK  PlayerMatch_key  Match_Id  Player_Id Player_Name  \\\n",
       "0            12694      33598700006    335987          6    R Dravid   \n",
       "1            12695      33598700007    335987          7    W Jaffer   \n",
       "2            12696      33598700008    335987          8     V Kohli   \n",
       "3            12697      33598700009    335987          9   JH Kallis   \n",
       "4            12698      33598700010    335987         10    CL White   \n",
       "\n",
       "          DOB    Batting_hand          Bowling_skill  Country_Name Role_Desc  \\\n",
       "0  1973-01-11  Right-hand bat     Right-arm offbreak         India   Captain   \n",
       "1  1978-02-16  Right-hand bat     Right-arm offbreak         India    Player   \n",
       "2  1988-11-05  Right-hand bat       Right-arm medium         India    Player   \n",
       "3  1975-10-16  Right-hand bat  Right-arm fast-medium  South Africa    Player   \n",
       "4  1983-08-18  Right-hand bat        Legbreak googly     Australia    Player   \n",
       "\n",
       "       ...       Season_year is_manofThematch  Age_As_on_match  \\\n",
       "0      ...              2008                0               35   \n",
       "1      ...              2008                0               30   \n",
       "2      ...              2008                0               20   \n",
       "3      ...              2008                0               33   \n",
       "4      ...              2008                0               25   \n",
       "\n",
       "   IsPlayers_Team_won  Batting_Status  Bowling_Status  Player_Captain  \\\n",
       "0                   0             NaN             NaN        R Dravid   \n",
       "1                   0             NaN             NaN        R Dravid   \n",
       "2                   0             NaN             NaN        R Dravid   \n",
       "3                   0             NaN             NaN        R Dravid   \n",
       "4                   0             NaN             NaN        R Dravid   \n",
       "\n",
       "   Opposit_captain Player_keeper Opposit_keeper  \n",
       "0       SC Ganguly    MV Boucher        WP Saha  \n",
       "1       SC Ganguly    MV Boucher        WP Saha  \n",
       "2       SC Ganguly    MV Boucher        WP Saha  \n",
       "3       SC Ganguly    MV Boucher        WP Saha  \n",
       "4       SC Ganguly    MV Boucher        WP Saha  \n",
       "\n",
       "[5 rows x 22 columns]"
      ]
     },
     "execution_count": 3,
     "metadata": {},
     "output_type": "execute_result"
    }
   ],
   "source": [
    "player_match.head()"
   ]
  },
  {
   "cell_type": "code",
   "execution_count": 4,
   "metadata": {
    "collapsed": false,
    "scrolled": true
   },
   "outputs": [
    {
     "data": {
      "text/html": [
       "<div>\n",
       "<table border=\"1\" class=\"dataframe\">\n",
       "  <thead>\n",
       "    <tr style=\"text-align: right;\">\n",
       "      <th></th>\n",
       "      <th>PLAYER_SK</th>\n",
       "      <th>Player_Id</th>\n",
       "      <th>Player_Name</th>\n",
       "      <th>DOB</th>\n",
       "      <th>Batting_hand</th>\n",
       "      <th>Bowling_skill</th>\n",
       "      <th>Country_Name</th>\n",
       "    </tr>\n",
       "  </thead>\n",
       "  <tbody>\n",
       "    <tr>\n",
       "      <th>0</th>\n",
       "      <td>0</td>\n",
       "      <td>1</td>\n",
       "      <td>SC Ganguly</td>\n",
       "      <td>1972-07-08</td>\n",
       "      <td>Left-hand bat</td>\n",
       "      <td>Right-arm medium</td>\n",
       "      <td>India</td>\n",
       "    </tr>\n",
       "    <tr>\n",
       "      <th>1</th>\n",
       "      <td>1</td>\n",
       "      <td>2</td>\n",
       "      <td>BB McCullum</td>\n",
       "      <td>1981-09-27</td>\n",
       "      <td>Right-hand bat</td>\n",
       "      <td>Right-arm medium</td>\n",
       "      <td>New Zealand</td>\n",
       "    </tr>\n",
       "    <tr>\n",
       "      <th>2</th>\n",
       "      <td>2</td>\n",
       "      <td>3</td>\n",
       "      <td>RT Ponting</td>\n",
       "      <td>1974-12-19</td>\n",
       "      <td>Right-hand bat</td>\n",
       "      <td>Right-arm medium</td>\n",
       "      <td>Australia</td>\n",
       "    </tr>\n",
       "    <tr>\n",
       "      <th>3</th>\n",
       "      <td>3</td>\n",
       "      <td>4</td>\n",
       "      <td>DJ Hussey</td>\n",
       "      <td>1977-07-15</td>\n",
       "      <td>Right-hand bat</td>\n",
       "      <td>Right-arm offbreak</td>\n",
       "      <td>Australia</td>\n",
       "    </tr>\n",
       "    <tr>\n",
       "      <th>4</th>\n",
       "      <td>4</td>\n",
       "      <td>5</td>\n",
       "      <td>Mohammad Hafeez</td>\n",
       "      <td>1980-10-17</td>\n",
       "      <td>Right-hand bat</td>\n",
       "      <td>Right-arm offbreak</td>\n",
       "      <td>Pakistan</td>\n",
       "    </tr>\n",
       "  </tbody>\n",
       "</table>\n",
       "</div>"
      ],
      "text/plain": [
       "   PLAYER_SK  Player_Id      Player_Name         DOB    Batting_hand  \\\n",
       "0          0          1       SC Ganguly  1972-07-08   Left-hand bat   \n",
       "1          1          2      BB McCullum  1981-09-27  Right-hand bat   \n",
       "2          2          3       RT Ponting  1974-12-19  Right-hand bat   \n",
       "3          3          4        DJ Hussey  1977-07-15  Right-hand bat   \n",
       "4          4          5  Mohammad Hafeez  1980-10-17  Right-hand bat   \n",
       "\n",
       "        Bowling_skill Country_Name  \n",
       "0    Right-arm medium        India  \n",
       "1    Right-arm medium  New Zealand  \n",
       "2    Right-arm medium    Australia  \n",
       "3  Right-arm offbreak    Australia  \n",
       "4  Right-arm offbreak     Pakistan  "
      ]
     },
     "execution_count": 4,
     "metadata": {},
     "output_type": "execute_result"
    }
   ],
   "source": [
    "player.head()"
   ]
  },
  {
   "cell_type": "code",
   "execution_count": 5,
   "metadata": {
    "collapsed": false
   },
   "outputs": [
    {
     "data": {
      "text/html": [
       "<div>\n",
       "<table border=\"1\" class=\"dataframe\">\n",
       "  <thead>\n",
       "    <tr style=\"text-align: right;\">\n",
       "      <th></th>\n",
       "      <th>Team_SK</th>\n",
       "      <th>Team_Id</th>\n",
       "      <th>Team_Name</th>\n",
       "    </tr>\n",
       "  </thead>\n",
       "  <tbody>\n",
       "    <tr>\n",
       "      <th>0</th>\n",
       "      <td>0</td>\n",
       "      <td>1</td>\n",
       "      <td>Kolkata Knight Riders</td>\n",
       "    </tr>\n",
       "    <tr>\n",
       "      <th>1</th>\n",
       "      <td>1</td>\n",
       "      <td>2</td>\n",
       "      <td>Royal Challengers Bangalore</td>\n",
       "    </tr>\n",
       "    <tr>\n",
       "      <th>2</th>\n",
       "      <td>2</td>\n",
       "      <td>3</td>\n",
       "      <td>Chennai Super Kings</td>\n",
       "    </tr>\n",
       "    <tr>\n",
       "      <th>3</th>\n",
       "      <td>3</td>\n",
       "      <td>4</td>\n",
       "      <td>Kings XI Punjab</td>\n",
       "    </tr>\n",
       "    <tr>\n",
       "      <th>4</th>\n",
       "      <td>4</td>\n",
       "      <td>5</td>\n",
       "      <td>Rajasthan Royals</td>\n",
       "    </tr>\n",
       "  </tbody>\n",
       "</table>\n",
       "</div>"
      ],
      "text/plain": [
       "   Team_SK  Team_Id                    Team_Name\n",
       "0        0        1        Kolkata Knight Riders\n",
       "1        1        2  Royal Challengers Bangalore\n",
       "2        2        3          Chennai Super Kings\n",
       "3        3        4              Kings XI Punjab\n",
       "4        4        5             Rajasthan Royals"
      ]
     },
     "execution_count": 5,
     "metadata": {},
     "output_type": "execute_result"
    }
   ],
   "source": [
    "team.head()"
   ]
  },
  {
   "cell_type": "code",
   "execution_count": 6,
   "metadata": {
    "collapsed": false
   },
   "outputs": [
    {
     "name": "stdout",
     "output_type": "stream",
     "text": [
      "Index(['Player_match_SK', 'PlayerMatch_key', 'Match_Id', 'Player_Id',\n",
      "       'Player_Name', 'DOB', 'Batting_hand', 'Bowling_skill', 'Country_Name',\n",
      "       'Role_Desc', 'Player_team', 'Opposit_Team', 'Season_year',\n",
      "       'is_manofThematch', 'Age_As_on_match', 'IsPlayers_Team_won',\n",
      "       'Batting_Status', 'Bowling_Status', 'Player_Captain', 'Opposit_captain',\n",
      "       'Player_keeper', 'Opposit_keeper'],\n",
      "      dtype='object') \n",
      "\n",
      "Index(['PLAYER_SK', 'Player_Id', 'Player_Name', 'DOB', 'Batting_hand',\n",
      "       'Bowling_skill', 'Country_Name'],\n",
      "      dtype='object') \n",
      "\n",
      "Index(['Team_SK', 'Team_Id', 'Team_Name'], dtype='object') \n",
      "\n"
     ]
    }
   ],
   "source": [
    "# print(player_match.dtypes,'\\n')\n",
    "print(player_match.columns,'\\n')\n",
    "print(player.columns,'\\n')\n",
    "print(team.columns,'\\n')"
   ]
  },
  {
   "cell_type": "markdown",
   "metadata": {},
   "source": [
    "### More on info() command."
   ]
  },
  {
   "cell_type": "markdown",
   "metadata": {},
   "source": [
    "**info()** command gives us information on the total entries, the columns present and their types, the number of non-null values in each columns and also on the memory usage."
   ]
  },
  {
   "cell_type": "code",
   "execution_count": 7,
   "metadata": {
    "collapsed": false
   },
   "outputs": [
    {
     "name": "stdout",
     "output_type": "stream",
     "text": [
      "<class 'pandas.core.frame.DataFrame'>\n",
      "RangeIndex: 13992 entries, 0 to 13991\n",
      "Data columns (total 22 columns):\n",
      "Player_match_SK       13992 non-null int64\n",
      "PlayerMatch_key       13992 non-null int64\n",
      "Match_Id              13992 non-null int64\n",
      "Player_Id             13992 non-null int64\n",
      "Player_Name           13992 non-null object\n",
      "DOB                   13992 non-null object\n",
      "Batting_hand          13992 non-null object\n",
      "Bowling_skill         12862 non-null object\n",
      "Country_Name          13992 non-null object\n",
      "Role_Desc             13992 non-null object\n",
      "Player_team           13992 non-null object\n",
      "Opposit_Team          13992 non-null object\n",
      "Season_year           13992 non-null int64\n",
      "is_manofThematch      13992 non-null int64\n",
      "Age_As_on_match       13992 non-null int64\n",
      "IsPlayers_Team_won    13992 non-null int64\n",
      "Batting_Status        0 non-null float64\n",
      "Bowling_Status        0 non-null float64\n",
      "Player_Captain        13992 non-null object\n",
      "Opposit_captain       13992 non-null object\n",
      "Player_keeper         13992 non-null object\n",
      "Opposit_keeper        13992 non-null object\n",
      "dtypes: float64(2), int64(8), object(12)\n",
      "memory usage: 2.3+ MB\n"
     ]
    }
   ],
   "source": [
    "player_match.info()"
   ]
  },
  {
   "cell_type": "markdown",
   "metadata": {},
   "source": [
    "### Selecting specific rows and columns"
   ]
  },
  {
   "cell_type": "markdown",
   "metadata": {},
   "source": [
    "Selecting specific rows and columns can be done using ***.loc()*** and ***.iloc()*** also. But this task can also be done just specifying name of the columns and most of the times it is useful to get specific items."
   ]
  },
  {
   "cell_type": "code",
   "execution_count": 8,
   "metadata": {
    "collapsed": false
   },
   "outputs": [
    {
     "data": {
      "text/html": [
       "<div>\n",
       "<table border=\"1\" class=\"dataframe\">\n",
       "  <thead>\n",
       "    <tr style=\"text-align: right;\">\n",
       "      <th></th>\n",
       "      <th>Player_Name</th>\n",
       "      <th>DOB</th>\n",
       "    </tr>\n",
       "  </thead>\n",
       "  <tbody>\n",
       "    <tr>\n",
       "      <th>0</th>\n",
       "      <td>R Dravid</td>\n",
       "      <td>1973-01-11</td>\n",
       "    </tr>\n",
       "    <tr>\n",
       "      <th>1</th>\n",
       "      <td>W Jaffer</td>\n",
       "      <td>1978-02-16</td>\n",
       "    </tr>\n",
       "    <tr>\n",
       "      <th>2</th>\n",
       "      <td>V Kohli</td>\n",
       "      <td>1988-11-05</td>\n",
       "    </tr>\n",
       "    <tr>\n",
       "      <th>3</th>\n",
       "      <td>JH Kallis</td>\n",
       "      <td>1975-10-16</td>\n",
       "    </tr>\n",
       "    <tr>\n",
       "      <th>4</th>\n",
       "      <td>CL White</td>\n",
       "      <td>1983-08-18</td>\n",
       "    </tr>\n",
       "  </tbody>\n",
       "</table>\n",
       "</div>"
      ],
      "text/plain": [
       "  Player_Name         DOB\n",
       "0    R Dravid  1973-01-11\n",
       "1    W Jaffer  1978-02-16\n",
       "2     V Kohli  1988-11-05\n",
       "3   JH Kallis  1975-10-16\n",
       "4    CL White  1983-08-18"
      ]
     },
     "execution_count": 8,
     "metadata": {},
     "output_type": "execute_result"
    }
   ],
   "source": [
    "player_match[['Player_Name','DOB']][0:5]"
   ]
  },
  {
   "cell_type": "markdown",
   "metadata": {},
   "source": [
    "We will use ***value_counts()*** and see the results. \n",
    "Note that even a small change in the name reflects as a different entry. You can get to know how to define that index using index function"
   ]
  },
  {
   "cell_type": "code",
   "execution_count": 9,
   "metadata": {
    "collapsed": false
   },
   "outputs": [
    {
     "data": {
      "text/plain": [
       "Right-hand bat     10026\n",
       "Left-hand bat       3899\n",
       " Right-hand bat       43\n",
       " Left-hand bat        18\n",
       "Right-handed           6\n",
       "Name: Batting_hand, dtype: int64"
      ]
     },
     "execution_count": 9,
     "metadata": {},
     "output_type": "execute_result"
    }
   ],
   "source": [
    "player_match['Batting_hand'].value_counts()"
   ]
  },
  {
   "cell_type": "code",
   "execution_count": 10,
   "metadata": {
    "collapsed": false
   },
   "outputs": [
    {
     "data": {
      "text/plain": [
       "'\\xa0Right-hand bat'"
      ]
     },
     "execution_count": 10,
     "metadata": {},
     "output_type": "execute_result"
    }
   ],
   "source": [
    "player_match['Batting_hand'].value_counts().index[2]"
   ]
  },
  {
   "cell_type": "markdown",
   "metadata": {},
   "source": [
    "But how to use the third one as a name of a column?"
   ]
  },
  {
   "cell_type": "code",
   "execution_count": 11,
   "metadata": {
    "collapsed": false
   },
   "outputs": [
    {
     "data": {
      "text/plain": [
       "Right-hand bat     10026\n",
       "Left-hand bat       3899\n",
       " Right-hand bat       43\n",
       " Left-hand bat        18\n",
       "Right-handed           6\n",
       "Name: Batting_hand, dtype: int64"
      ]
     },
     "execution_count": 11,
     "metadata": {},
     "output_type": "execute_result"
    }
   ],
   "source": [
    "player_match['Batting_hand'].value_counts()"
   ]
  },
  {
   "cell_type": "markdown",
   "metadata": {},
   "source": [
    "Since the value_counts() returns a Series, specific attributes can be accessed through names."
   ]
  },
  {
   "cell_type": "code",
   "execution_count": 12,
   "metadata": {
    "collapsed": false
   },
   "outputs": [
    {
     "name": "stdout",
     "output_type": "stream",
     "text": [
      "10026\n",
      "43\n"
     ]
    }
   ],
   "source": [
    "if len(player_match['Batting_hand'].value_counts())==5 :\n",
    "    print(player_match['Batting_hand'].value_counts()['Right-hand bat'])\n",
    "    print(player_match['Batting_hand'].value_counts()['\\xa0Right-hand bat'])"
   ]
  },
  {
   "cell_type": "markdown",
   "metadata": {},
   "source": [
    "We have to fix this error and bring everything to either right-handed bat or left-handed bat. We'll do that now."
   ]
  },
  {
   "cell_type": "markdown",
   "metadata": {},
   "source": [
    "#### Changing values of a column\n",
    "\n",
    "You can use map() to change the values of a column."
   ]
  },
  {
   "cell_type": "code",
   "execution_count": 13,
   "metadata": {
    "collapsed": false
   },
   "outputs": [
    {
     "name": "stdout",
     "output_type": "stream",
     "text": [
      "Right-handed    10069\n",
      "Left-handed      3917\n",
      "Name: Batting_hand, dtype: int64\n"
     ]
    }
   ],
   "source": [
    "if len(player_match['Batting_hand'].value_counts())==5 :# So that if you run it multiple times it doesn't change the value\n",
    "    player_match['Batting_hand'] = player_match['Batting_hand'].\\\n",
    "    map({'Right-hand bat':'Right-handed','\\xa0Right-hand bat':'Right-handed',\n",
    "          'Left-hand bat' : 'Left-handed',\n",
    "          '\\xa0Left-hand bat' : 'Left-handed'})\n",
    "\n",
    "print(player_match['Batting_hand'].value_counts())"
   ]
  },
  {
   "cell_type": "markdown",
   "metadata": {},
   "source": [
    "You can also normalize the results using ***value_counts()*** by changing the argument normalize = True.\n",
    "\n",
    "So let's see what percentage of batsmen are right and left handed."
   ]
  },
  {
   "cell_type": "code",
   "execution_count": 14,
   "metadata": {
    "collapsed": false
   },
   "outputs": [
    {
     "name": "stdout",
     "output_type": "stream",
     "text": [
      "Right-handed    10069\n",
      "Left-handed      3917\n",
      "Name: Batting_hand, dtype: int64\n"
     ]
    }
   ],
   "source": [
    "print(player_match['Batting_hand'].value_counts())"
   ]
  },
  {
   "cell_type": "code",
   "execution_count": 15,
   "metadata": {
    "collapsed": false
   },
   "outputs": [
    {
     "name": "stdout",
     "output_type": "stream",
     "text": [
      "Right-hand bat     71.830986\n",
      "Left-hand bat      25.955734\n",
      " Right-hand bat     1.408451\n",
      " Left-hand bat      0.603622\n",
      "Right-handed        0.201207\n",
      "Name: Batting_hand, dtype: float64\n",
      "Right-handed    364\n",
      "Left-handed     132\n",
      "Name: Batting_hand, dtype: int64\n"
     ]
    }
   ],
   "source": [
    "print(player['Batting_hand'].value_counts(normalize=True)*100)\n",
    "player['Batting_hand'] = player['Batting_hand'].\\\n",
    "map({'Right-hand bat':'Right-handed', '\\xa0Right-hand bat':'Right-handed',\n",
    "       'Left-hand bat' : 'Left-handed',\n",
    "       '\\xa0Left-hand bat' : 'Left-handed'})\n",
    "print(player['Batting_hand'].value_counts())"
   ]
  },
  {
   "cell_type": "code",
   "execution_count": 16,
   "metadata": {
    "collapsed": false
   },
   "outputs": [
    {
     "data": {
      "text/plain": [
       "Right-handed    0.733871\n",
       "Left-handed     0.266129\n",
       "Name: Batting_hand, dtype: float64"
      ]
     },
     "execution_count": 16,
     "metadata": {},
     "output_type": "execute_result"
    }
   ],
   "source": [
    "player['Batting_hand'].value_counts(normalize=True)"
   ]
  },
  {
   "cell_type": "markdown",
   "metadata": {},
   "source": [
    "### Cross Tabulation"
   ]
  },
  {
   "cell_type": "markdown",
   "metadata": {},
   "source": [
    "Sometimes while analysing the data we may need only specific set of the entire dataset. It's when ***crosstab()*** comes in handy.\n",
    "So let's see if we could get some interesting facts."
   ]
  },
  {
   "cell_type": "code",
   "execution_count": 17,
   "metadata": {
    "collapsed": false
   },
   "outputs": [
    {
     "data": {
      "text/html": [
       "<div>\n",
       "<table border=\"1\" class=\"dataframe\">\n",
       "  <thead>\n",
       "    <tr style=\"text-align: right;\">\n",
       "      <th>is_manofThematch</th>\n",
       "      <th>0</th>\n",
       "      <th>1</th>\n",
       "    </tr>\n",
       "    <tr>\n",
       "      <th>Player_Captain</th>\n",
       "      <th></th>\n",
       "      <th></th>\n",
       "    </tr>\n",
       "  </thead>\n",
       "  <tbody>\n",
       "    <tr>\n",
       "      <th>A Kumble</th>\n",
       "      <td>271</td>\n",
       "      <td>15</td>\n",
       "    </tr>\n",
       "    <tr>\n",
       "      <th>AC Gilchrist</th>\n",
       "      <td>781</td>\n",
       "      <td>33</td>\n",
       "    </tr>\n",
       "    <tr>\n",
       "      <th>AD Mathews</th>\n",
       "      <td>54</td>\n",
       "      <td>1</td>\n",
       "    </tr>\n",
       "    <tr>\n",
       "      <th>AJ Finch</th>\n",
       "      <td>108</td>\n",
       "      <td>2</td>\n",
       "    </tr>\n",
       "    <tr>\n",
       "      <th>AM Rahane</th>\n",
       "      <td>11</td>\n",
       "      <td>0</td>\n",
       "    </tr>\n",
       "  </tbody>\n",
       "</table>\n",
       "</div>"
      ],
      "text/plain": [
       "is_manofThematch    0   1\n",
       "Player_Captain           \n",
       "A Kumble          271  15\n",
       "AC Gilchrist      781  33\n",
       "AD Mathews         54   1\n",
       "AJ Finch          108   2\n",
       "AM Rahane          11   0"
      ]
     },
     "execution_count": 17,
     "metadata": {},
     "output_type": "execute_result"
    }
   ],
   "source": [
    "# The total number of matches in which the players who were the team captains have won man of the match \n",
    "# and number of times they didn't,\n",
    "pd.crosstab([player_match.Player_Captain],[player_match.is_manofThematch]).head()"
   ]
  },
  {
   "cell_type": "code",
   "execution_count": 18,
   "metadata": {
    "collapsed": false
   },
   "outputs": [
    {
     "name": "stdout",
     "output_type": "stream",
     "text": [
      "The maximum number of matches in which the players who were the team captains have won man of the match : 85\n"
     ]
    },
    {
     "data": {
      "text/plain": [
       "is_manofThematch\n",
       "0    271\n",
       "1     15\n",
       "Name: A Kumble, dtype: int64"
      ]
     },
     "execution_count": 18,
     "metadata": {},
     "output_type": "execute_result"
    }
   ],
   "source": [
    "print('The maximum number of matches in which the players who were' \n",
    "      ' the team captains have won man of the match :'\n",
    "      ,max(pd.crosstab(player_match.Player_Captain,\n",
    "                       player_match.is_manofThematch)[1]))\n",
    "pd.crosstab(player_match.Player_Captain,\n",
    "            player_match.is_manofThematch).loc['A Kumble']"
   ]
  },
  {
   "cell_type": "markdown",
   "metadata": {},
   "source": [
    "###  Normalize in cross tab.\n",
    "\n",
    "You can normalize the values in a cross tab just by passing the argument **normalize**. The value of this argument can be ***index***, ***columns***, ***all***, based on how you want.\n",
    "We will take the first 3 rows of the previous crosstab and look at each of them."
   ]
  },
  {
   "cell_type": "code",
   "execution_count": 19,
   "metadata": {
    "collapsed": false
   },
   "outputs": [
    {
     "data": {
      "text/html": [
       "<div>\n",
       "<table border=\"1\" class=\"dataframe\">\n",
       "  <thead>\n",
       "    <tr style=\"text-align: right;\">\n",
       "      <th>is_manofThematch</th>\n",
       "      <th>0</th>\n",
       "      <th>1</th>\n",
       "    </tr>\n",
       "    <tr>\n",
       "      <th>Player_Captain</th>\n",
       "      <th></th>\n",
       "      <th></th>\n",
       "    </tr>\n",
       "  </thead>\n",
       "  <tbody>\n",
       "    <tr>\n",
       "      <th>A Kumble</th>\n",
       "      <td>94.755245</td>\n",
       "      <td>5.244755</td>\n",
       "    </tr>\n",
       "    <tr>\n",
       "      <th>AC Gilchrist</th>\n",
       "      <td>95.945946</td>\n",
       "      <td>4.054054</td>\n",
       "    </tr>\n",
       "    <tr>\n",
       "      <th>AD Mathews</th>\n",
       "      <td>98.181818</td>\n",
       "      <td>1.818182</td>\n",
       "    </tr>\n",
       "  </tbody>\n",
       "</table>\n",
       "</div>"
      ],
      "text/plain": [
       "is_manofThematch          0         1\n",
       "Player_Captain                       \n",
       "A Kumble          94.755245  5.244755\n",
       "AC Gilchrist      95.945946  4.054054\n",
       "AD Mathews        98.181818  1.818182"
      ]
     },
     "execution_count": 19,
     "metadata": {},
     "output_type": "execute_result"
    }
   ],
   "source": [
    "pd.crosstab(player_match.Player_Captain,player_match.is_manofThematch,\n",
    "            normalize=\"index\")[:3]*100"
   ]
  },
  {
   "cell_type": "code",
   "execution_count": 20,
   "metadata": {
    "collapsed": false
   },
   "outputs": [
    {
     "data": {
      "text/html": [
       "<div>\n",
       "<table border=\"1\" class=\"dataframe\">\n",
       "  <thead>\n",
       "    <tr style=\"text-align: right;\">\n",
       "      <th>is_manofThematch</th>\n",
       "      <th>0</th>\n",
       "      <th>1</th>\n",
       "    </tr>\n",
       "    <tr>\n",
       "      <th>Player_Captain</th>\n",
       "      <th></th>\n",
       "      <th></th>\n",
       "    </tr>\n",
       "  </thead>\n",
       "  <tbody>\n",
       "    <tr>\n",
       "      <th>A Kumble</th>\n",
       "      <td>2.028291</td>\n",
       "      <td>2.377179</td>\n",
       "    </tr>\n",
       "    <tr>\n",
       "      <th>AC Gilchrist</th>\n",
       "      <td>5.845371</td>\n",
       "      <td>5.229794</td>\n",
       "    </tr>\n",
       "    <tr>\n",
       "      <th>AD Mathews</th>\n",
       "      <td>0.404161</td>\n",
       "      <td>0.158479</td>\n",
       "    </tr>\n",
       "  </tbody>\n",
       "</table>\n",
       "</div>"
      ],
      "text/plain": [
       "is_manofThematch         0         1\n",
       "Player_Captain                      \n",
       "A Kumble          2.028291  2.377179\n",
       "AC Gilchrist      5.845371  5.229794\n",
       "AD Mathews        0.404161  0.158479"
      ]
     },
     "execution_count": 20,
     "metadata": {},
     "output_type": "execute_result"
    }
   ],
   "source": [
    "pd.crosstab(player_match.Player_Captain,player_match.is_manofThematch,\n",
    "            normalize=\"columns\")[:3]*100"
   ]
  },
  {
   "cell_type": "code",
   "execution_count": 21,
   "metadata": {
    "collapsed": false
   },
   "outputs": [
    {
     "data": {
      "text/html": [
       "<div>\n",
       "<table border=\"1\" class=\"dataframe\">\n",
       "  <thead>\n",
       "    <tr style=\"text-align: right;\">\n",
       "      <th>is_manofThematch</th>\n",
       "      <th>0</th>\n",
       "      <th>1</th>\n",
       "    </tr>\n",
       "    <tr>\n",
       "      <th>Player_Captain</th>\n",
       "      <th></th>\n",
       "      <th></th>\n",
       "    </tr>\n",
       "  </thead>\n",
       "  <tbody>\n",
       "    <tr>\n",
       "      <th>A Kumble</th>\n",
       "      <td>1.936821</td>\n",
       "      <td>0.107204</td>\n",
       "    </tr>\n",
       "    <tr>\n",
       "      <th>AC Gilchrist</th>\n",
       "      <td>5.581761</td>\n",
       "      <td>0.235849</td>\n",
       "    </tr>\n",
       "    <tr>\n",
       "      <th>AD Mathews</th>\n",
       "      <td>0.385935</td>\n",
       "      <td>0.007147</td>\n",
       "    </tr>\n",
       "  </tbody>\n",
       "</table>\n",
       "</div>"
      ],
      "text/plain": [
       "is_manofThematch         0         1\n",
       "Player_Captain                      \n",
       "A Kumble          1.936821  0.107204\n",
       "AC Gilchrist      5.581761  0.235849\n",
       "AD Mathews        0.385935  0.007147"
      ]
     },
     "execution_count": 21,
     "metadata": {},
     "output_type": "execute_result"
    }
   ],
   "source": [
    "pd.crosstab(player_match.Player_Captain,player_match.is_manofThematch,\n",
    "            normalize=\"all\")[:3]*100"
   ]
  },
  {
   "cell_type": "markdown",
   "metadata": {},
   "source": [
    "### Filtering records based on a condition\n",
    "\n",
    "This is one of the important functions that gives you a specific dataframe based on your query. You pass a condition and you get a dataframe returned which satisfies that condition."
   ]
  },
  {
   "cell_type": "code",
   "execution_count": 22,
   "metadata": {
    "collapsed": false
   },
   "outputs": [
    {
     "name": "stdout",
     "output_type": "stream",
     "text": [
      "2618\n"
     ]
    },
    {
     "data": {
      "text/html": [
       "<div>\n",
       "<table border=\"1\" class=\"dataframe\">\n",
       "  <thead>\n",
       "    <tr style=\"text-align: right;\">\n",
       "      <th></th>\n",
       "      <th>Player_Id</th>\n",
       "      <th>Player_Name</th>\n",
       "    </tr>\n",
       "  </thead>\n",
       "  <tbody>\n",
       "    <tr>\n",
       "      <th>11374</th>\n",
       "      <td>50</td>\n",
       "      <td>Harbhajan Singh</td>\n",
       "    </tr>\n",
       "    <tr>\n",
       "      <th>11375</th>\n",
       "      <td>57</td>\n",
       "      <td>RG Sharma</td>\n",
       "    </tr>\n",
       "    <tr>\n",
       "      <th>11376</th>\n",
       "      <td>81</td>\n",
       "      <td>R Vinay Kumar</td>\n",
       "    </tr>\n",
       "    <tr>\n",
       "      <th>11377</th>\n",
       "      <td>208</td>\n",
       "      <td>AT Rayudu</td>\n",
       "    </tr>\n",
       "    <tr>\n",
       "      <th>11378</th>\n",
       "      <td>221</td>\n",
       "      <td>KA Pollard</td>\n",
       "    </tr>\n",
       "  </tbody>\n",
       "</table>\n",
       "</div>"
      ],
      "text/plain": [
       "       Player_Id      Player_Name\n",
       "11374         50  Harbhajan Singh\n",
       "11375         57        RG Sharma\n",
       "11376         81    R Vinay Kumar\n",
       "11377        208        AT Rayudu\n",
       "11378        221       KA Pollard"
      ]
     },
     "execution_count": 22,
     "metadata": {},
     "output_type": "execute_result"
    }
   ],
   "source": [
    "after15 = player_match[player_match.Season_year>2015][['Player_Id',\n",
    "                                                       'Player_Name']]\n",
    "print(len(after15))\n",
    "after15.head()"
   ]
  },
  {
   "cell_type": "code",
   "execution_count": 23,
   "metadata": {
    "collapsed": false
   },
   "outputs": [],
   "source": [
    "# Use of unique function.\n",
    "a = player_match[player_match.Season_year>2015]['Player_Id'].unique()\n",
    "b = player_match[player_match.Season_year>2015]['Player_Name'].unique()"
   ]
  },
  {
   "cell_type": "code",
   "execution_count": 24,
   "metadata": {
    "collapsed": false
   },
   "outputs": [
    {
     "data": {
      "text/plain": [
       "(202, 202)"
      ]
     },
     "execution_count": 24,
     "metadata": {},
     "output_type": "execute_result"
    }
   ],
   "source": [
    "len(a),len(b)"
   ]
  },
  {
   "cell_type": "code",
   "execution_count": 25,
   "metadata": {
    "collapsed": false
   },
   "outputs": [
    {
     "data": {
      "text/plain": [
       "array(['Harbhajan Singh', 'RG Sharma', 'R Vinay Kumar', 'AT Rayudu',\n",
       "       'KA Pollard', 'JJ Bumrah', 'LMP Simmons', 'S Gopal', 'HH Pandya',\n",
       "       'MJ McClenaghan', 'JC Buttler', 'MS Dhoni', 'RP Singh', 'I Sharma',\n",
       "       'AM Rahane', 'R Bhatia', 'KP Pietersen', 'R Ashwin', 'MR Marsh',\n",
       "       'F du Plessis', 'SPD Smith', 'M Ashwin', 'Z Khan', 'A Mishra',\n",
       "       'MA Agarwal', 'P Negi', 'KK Nair', 'CH Morris', 'SV Samson',\n",
       "       'Q de Kock', 'NM Coulter-Nile', 'SS Iyer', 'CR Brathwaite',\n",
       "       'YK Pathan', 'G Gambhir', 'RV Uthappa', 'PP Chawla', 'MK Pandey',\n",
       "       'UT Yadav', 'SA Yadav', 'GB Hogg', 'AD Russell', 'C Munro',\n",
       "       'JW Hastings', 'BB McCullum', 'P Kumar', 'SK Raina', 'RA Jadeja',\n",
       "       'DJ Bravo', 'KD Karthik', 'PJ Sangwan', 'S Ladda', 'AJ Finch',\n",
       "       'JP Faulkner', 'Ishan Kishan', 'WP Saha', 'M Vijay', 'GJ Maxwell',\n",
       "       'DA Miller', 'M Vohra', 'MG Johnson', 'MM Sharma', 'Sandeep Sharma',\n",
       "       'AR Patel', 'MP Stoinis', 'P Sahu', 'V Kohli', 'SR Watson',\n",
       "       'AB de Villiers', 'CH Gayle', 'KM Jadhav', 'STR Binny', 'HV Patel',\n",
       "       'Parvez Rasool', 'YS Chahal', 'SN Khan', 'AF Milne', 'S Dhawan',\n",
       "       'A Nehra', 'MC Henriques', 'KV Sharma', 'NV Ojha', 'DA Warner',\n",
       "       'EJG Morgan', 'B Kumar', 'A Ashish Reddy', 'DJ Hooda',\n",
       "       'Mustafizur Rahman', 'PA Patel', 'TG Southee', 'J Suchith',\n",
       "       'Kuldeep Yadav', 'SB Jakati', 'PV Tambe', 'AD Nath', 'JP Duminy',\n",
       "       'J Yadav', 'SE Marsh', 'BB Sran', 'M Morkel', 'Shakib Al Hasan',\n",
       "       'SP Narine', 'DS Kulkarni', 'KH Pandya', 'IK Pathan', 'NLTC Perera',\n",
       "       'Ankit Sharma', 'KJ Abbott', 'S Aravind', 'D Wiese',\n",
       "       'Mohammed Shami', 'Bipul Sharma', 'MJ Guptill', 'Iqbal Abdulla',\n",
       "       'VR Aaron', 'KL Rahul', 'KW Richardson', 'TM Head', 'DW Steyn',\n",
       "       'AP Tare', 'Mandeep Singh', 'T Shamsi', 'Imran Tahir', 'R Dhawan',\n",
       "       'NS Naik', 'DR Smith', 'SS Tiwary', 'JA Morkel', 'R Sathish',\n",
       "       'AB Dinda', 'S Nadeem', 'RR Pant', 'CA Lynn', 'JD Unadkat',\n",
       "       'S Kaushik', 'PSP Handscomb', 'SW Billings', 'JO Holder',\n",
       "       'Sachin Baby', 'KS Williamson', 'Gurkeerat Singh', 'KC Cariappa',\n",
       "       'SM Boland', 'Swapnil Singh', 'GJ Bailey', 'UT Khawaja',\n",
       "       'Yuvraj Singh', 'CJ Jordan', 'A Zampa', 'HM Amla', 'Anureet Singh',\n",
       "       'F Behardien', 'N Rana', 'UBT Chand', 'AS Rajpoot', 'BCJ Cutting',\n",
       "       'DL Chahar', 'ER Dwivedi', 'TA Boult', 'A Choudhary', 'Rashid Khan',\n",
       "       'TS Mills', 'MK Tiwary', 'BA Stokes', 'MS Gony', 'CR Woakes',\n",
       "       'JJ Roy', 'DT Christian', 'RD Chahar', 'T Natarajan', 'PJ Cummins',\n",
       "       'B Stanlake', 'Vishnu Vinod', 'Basil Thampi', 'Tejas Baroka',\n",
       "       'SL Malinga', 'CJ Anderson', 'RA Tripathi', 'V Shankar',\n",
       "       'C de Grandhomme', 'S Badree', 'SN Thakur', 'AJ Tye', 'LH Ferguson',\n",
       "       'MM Patel', 'AD Mathews', 'S Kaul', 'Mohammad Nabi',\n",
       "       'Mohammed Siraj', 'K Rabada', 'Washington Sundar', 'NB Singh',\n",
       "       'SS Agarwal', 'DM Bravo', 'Ankit Soni', 'AR Bawne', 'SP Jackson',\n",
       "       'MN Samuels', 'R Tewatia', 'MJ Henry', 'Avesh Khan', 'IR Jaggi'], dtype=object)"
      ]
     },
     "execution_count": 25,
     "metadata": {},
     "output_type": "execute_result"
    }
   ],
   "source": [
    "b"
   ]
  },
  {
   "cell_type": "markdown",
   "metadata": {
    "collapsed": false
   },
   "source": [
    "### Filtering records based on string comparison"
   ]
  },
  {
   "cell_type": "markdown",
   "metadata": {
    "collapsed": true
   },
   "source": [
    "You can also get dataframes based on string comparisons. This helps when you want to query data based on the string that exists in a column."
   ]
  },
  {
   "cell_type": "code",
   "execution_count": 26,
   "metadata": {
    "collapsed": false
   },
   "outputs": [
    {
     "data": {
      "text/html": [
       "<div>\n",
       "<table border=\"1\" class=\"dataframe\">\n",
       "  <thead>\n",
       "    <tr style=\"text-align: right;\">\n",
       "      <th></th>\n",
       "      <th>Player_match_SK</th>\n",
       "      <th>PlayerMatch_key</th>\n",
       "      <th>Match_Id</th>\n",
       "      <th>Player_Id</th>\n",
       "      <th>Player_Name</th>\n",
       "      <th>DOB</th>\n",
       "      <th>Batting_hand</th>\n",
       "      <th>Bowling_skill</th>\n",
       "      <th>Country_Name</th>\n",
       "      <th>Role_Desc</th>\n",
       "      <th>...</th>\n",
       "      <th>Season_year</th>\n",
       "      <th>is_manofThematch</th>\n",
       "      <th>Age_As_on_match</th>\n",
       "      <th>IsPlayers_Team_won</th>\n",
       "      <th>Batting_Status</th>\n",
       "      <th>Bowling_Status</th>\n",
       "      <th>Player_Captain</th>\n",
       "      <th>Opposit_captain</th>\n",
       "      <th>Player_keeper</th>\n",
       "      <th>Opposit_keeper</th>\n",
       "    </tr>\n",
       "  </thead>\n",
       "  <tbody>\n",
       "    <tr>\n",
       "      <th>60</th>\n",
       "      <td>12754</td>\n",
       "      <td>33598900035</td>\n",
       "      <td>335989</td>\n",
       "      <td>35</td>\n",
       "      <td>RA Jadeja</td>\n",
       "      <td>1988-12-06</td>\n",
       "      <td>Left-handed</td>\n",
       "      <td>Slow left-arm orthodox</td>\n",
       "      <td>India</td>\n",
       "      <td>Player</td>\n",
       "      <td>...</td>\n",
       "      <td>2008</td>\n",
       "      <td>0</td>\n",
       "      <td>20</td>\n",
       "      <td>0</td>\n",
       "      <td>NaN</td>\n",
       "      <td>NaN</td>\n",
       "      <td>SK Warne</td>\n",
       "      <td>V Sehwag</td>\n",
       "      <td>M Rawat</td>\n",
       "      <td>KD Karthik</td>\n",
       "    </tr>\n",
       "    <tr>\n",
       "      <th>114</th>\n",
       "      <td>12808</td>\n",
       "      <td>33599200035</td>\n",
       "      <td>335992</td>\n",
       "      <td>35</td>\n",
       "      <td>RA Jadeja</td>\n",
       "      <td>1988-12-06</td>\n",
       "      <td>Left-handed</td>\n",
       "      <td>Slow left-arm orthodox</td>\n",
       "      <td>India</td>\n",
       "      <td>Player</td>\n",
       "      <td>...</td>\n",
       "      <td>2008</td>\n",
       "      <td>0</td>\n",
       "      <td>20</td>\n",
       "      <td>1</td>\n",
       "      <td>NaN</td>\n",
       "      <td>NaN</td>\n",
       "      <td>SK Warne</td>\n",
       "      <td>Yuvraj Singh</td>\n",
       "      <td>Kamran Akmal</td>\n",
       "      <td>KC Sangakkara</td>\n",
       "    </tr>\n",
       "    <tr>\n",
       "      <th>190</th>\n",
       "      <td>12884</td>\n",
       "      <td>33599500035</td>\n",
       "      <td>335995</td>\n",
       "      <td>35</td>\n",
       "      <td>RA Jadeja</td>\n",
       "      <td>1988-12-06</td>\n",
       "      <td>Left-handed</td>\n",
       "      <td>Slow left-arm orthodox</td>\n",
       "      <td>India</td>\n",
       "      <td>Player</td>\n",
       "      <td>...</td>\n",
       "      <td>2008</td>\n",
       "      <td>0</td>\n",
       "      <td>20</td>\n",
       "      <td>1</td>\n",
       "      <td>NaN</td>\n",
       "      <td>NaN</td>\n",
       "      <td>SK Warne</td>\n",
       "      <td>VVS Laxman</td>\n",
       "      <td>Kamran Akmal</td>\n",
       "      <td>AC Gilchrist</td>\n",
       "    </tr>\n",
       "    <tr>\n",
       "      <th>223</th>\n",
       "      <td>12917</td>\n",
       "      <td>33599700035</td>\n",
       "      <td>335997</td>\n",
       "      <td>35</td>\n",
       "      <td>RA Jadeja</td>\n",
       "      <td>1988-12-06</td>\n",
       "      <td>Left-handed</td>\n",
       "      <td>Slow left-arm orthodox</td>\n",
       "      <td>India</td>\n",
       "      <td>Player</td>\n",
       "      <td>...</td>\n",
       "      <td>2008</td>\n",
       "      <td>0</td>\n",
       "      <td>20</td>\n",
       "      <td>1</td>\n",
       "      <td>NaN</td>\n",
       "      <td>NaN</td>\n",
       "      <td>SK Warne</td>\n",
       "      <td>R Dravid</td>\n",
       "      <td>M Rawat</td>\n",
       "      <td>MV Boucher</td>\n",
       "    </tr>\n",
       "    <tr>\n",
       "      <th>399</th>\n",
       "      <td>13093</td>\n",
       "      <td>33600500035</td>\n",
       "      <td>336005</td>\n",
       "      <td>35</td>\n",
       "      <td>RA Jadeja</td>\n",
       "      <td>1988-12-06</td>\n",
       "      <td>Left-handed</td>\n",
       "      <td>Slow left-arm orthodox</td>\n",
       "      <td>India</td>\n",
       "      <td>Player</td>\n",
       "      <td>...</td>\n",
       "      <td>2008</td>\n",
       "      <td>0</td>\n",
       "      <td>20</td>\n",
       "      <td>1</td>\n",
       "      <td>NaN</td>\n",
       "      <td>NaN</td>\n",
       "      <td>SK Warne</td>\n",
       "      <td>SC Ganguly</td>\n",
       "      <td>M Rawat</td>\n",
       "      <td>WP Saha</td>\n",
       "    </tr>\n",
       "  </tbody>\n",
       "</table>\n",
       "<p>5 rows × 22 columns</p>\n",
       "</div>"
      ],
      "text/plain": [
       "     Player_match_SK  PlayerMatch_key  Match_Id  Player_Id Player_Name  \\\n",
       "60             12754      33598900035    335989         35   RA Jadeja   \n",
       "114            12808      33599200035    335992         35   RA Jadeja   \n",
       "190            12884      33599500035    335995         35   RA Jadeja   \n",
       "223            12917      33599700035    335997         35   RA Jadeja   \n",
       "399            13093      33600500035    336005         35   RA Jadeja   \n",
       "\n",
       "            DOB Batting_hand           Bowling_skill Country_Name Role_Desc  \\\n",
       "60   1988-12-06  Left-handed  Slow left-arm orthodox        India    Player   \n",
       "114  1988-12-06  Left-handed  Slow left-arm orthodox        India    Player   \n",
       "190  1988-12-06  Left-handed  Slow left-arm orthodox        India    Player   \n",
       "223  1988-12-06  Left-handed  Slow left-arm orthodox        India    Player   \n",
       "399  1988-12-06  Left-handed  Slow left-arm orthodox        India    Player   \n",
       "\n",
       "         ...       Season_year is_manofThematch  Age_As_on_match  \\\n",
       "60       ...              2008                0               20   \n",
       "114      ...              2008                0               20   \n",
       "190      ...              2008                0               20   \n",
       "223      ...              2008                0               20   \n",
       "399      ...              2008                0               20   \n",
       "\n",
       "     IsPlayers_Team_won  Batting_Status  Bowling_Status  Player_Captain  \\\n",
       "60                    0             NaN             NaN        SK Warne   \n",
       "114                   1             NaN             NaN        SK Warne   \n",
       "190                   1             NaN             NaN        SK Warne   \n",
       "223                   1             NaN             NaN        SK Warne   \n",
       "399                   1             NaN             NaN        SK Warne   \n",
       "\n",
       "     Opposit_captain Player_keeper Opposit_keeper  \n",
       "60          V Sehwag       M Rawat     KD Karthik  \n",
       "114     Yuvraj Singh  Kamran Akmal  KC Sangakkara  \n",
       "190       VVS Laxman  Kamran Akmal   AC Gilchrist  \n",
       "223         R Dravid       M Rawat     MV Boucher  \n",
       "399       SC Ganguly       M Rawat        WP Saha  \n",
       "\n",
       "[5 rows x 22 columns]"
      ]
     },
     "execution_count": 26,
     "metadata": {},
     "output_type": "execute_result"
    }
   ],
   "source": [
    "player_match[player_match.Player_Name.str.contains('Jadeja')].head()"
   ]
  },
  {
   "cell_type": "markdown",
   "metadata": {},
   "source": [
    "### Rename a column\n",
    "\n",
    "You can rename any column using ***rename()*** function. If you use *inplace=True* then the original data is also changed."
   ]
  },
  {
   "cell_type": "code",
   "execution_count": 27,
   "metadata": {
    "collapsed": false
   },
   "outputs": [
    {
     "data": {
      "text/html": [
       "<div>\n",
       "<table border=\"1\" class=\"dataframe\">\n",
       "  <thead>\n",
       "    <tr style=\"text-align: right;\">\n",
       "      <th></th>\n",
       "      <th>Player_match_SK</th>\n",
       "      <th>PlayerMatch_key</th>\n",
       "      <th>Match_Id</th>\n",
       "      <th>Id</th>\n",
       "      <th>Player_Name</th>\n",
       "      <th>DOB</th>\n",
       "      <th>Batting_hand</th>\n",
       "      <th>Bowling_skill</th>\n",
       "      <th>Country_Name</th>\n",
       "      <th>Role_Desc</th>\n",
       "      <th>...</th>\n",
       "      <th>Season_year</th>\n",
       "      <th>is_manofThematch</th>\n",
       "      <th>Age_As_on_match</th>\n",
       "      <th>IsPlayers_Team_won</th>\n",
       "      <th>Batting_Status</th>\n",
       "      <th>Bowling_Status</th>\n",
       "      <th>Player_Captain</th>\n",
       "      <th>Opposit_captain</th>\n",
       "      <th>Player_keeper</th>\n",
       "      <th>Opposit_keeper</th>\n",
       "    </tr>\n",
       "  </thead>\n",
       "  <tbody>\n",
       "    <tr>\n",
       "      <th>0</th>\n",
       "      <td>12694</td>\n",
       "      <td>33598700006</td>\n",
       "      <td>335987</td>\n",
       "      <td>6</td>\n",
       "      <td>R Dravid</td>\n",
       "      <td>1973-01-11</td>\n",
       "      <td>Right-handed</td>\n",
       "      <td>Right-arm offbreak</td>\n",
       "      <td>India</td>\n",
       "      <td>Captain</td>\n",
       "      <td>...</td>\n",
       "      <td>2008</td>\n",
       "      <td>0</td>\n",
       "      <td>35</td>\n",
       "      <td>0</td>\n",
       "      <td>NaN</td>\n",
       "      <td>NaN</td>\n",
       "      <td>R Dravid</td>\n",
       "      <td>SC Ganguly</td>\n",
       "      <td>MV Boucher</td>\n",
       "      <td>WP Saha</td>\n",
       "    </tr>\n",
       "  </tbody>\n",
       "</table>\n",
       "<p>1 rows × 22 columns</p>\n",
       "</div>"
      ],
      "text/plain": [
       "   Player_match_SK  PlayerMatch_key  Match_Id  Id Player_Name         DOB  \\\n",
       "0            12694      33598700006    335987   6    R Dravid  1973-01-11   \n",
       "\n",
       "   Batting_hand       Bowling_skill Country_Name Role_Desc      ...        \\\n",
       "0  Right-handed  Right-arm offbreak        India   Captain      ...         \n",
       "\n",
       "  Season_year is_manofThematch  Age_As_on_match  IsPlayers_Team_won  \\\n",
       "0        2008                0               35                   0   \n",
       "\n",
       "   Batting_Status  Bowling_Status  Player_Captain  Opposit_captain  \\\n",
       "0             NaN             NaN        R Dravid       SC Ganguly   \n",
       "\n",
       "  Player_keeper Opposit_keeper  \n",
       "0    MV Boucher        WP Saha  \n",
       "\n",
       "[1 rows x 22 columns]"
      ]
     },
     "execution_count": 27,
     "metadata": {},
     "output_type": "execute_result"
    }
   ],
   "source": [
    "new_data = player_match.rename(columns={'Player_Id':'Id'})\n",
    "new_data.head(1)"
   ]
  },
  {
   "cell_type": "code",
   "execution_count": 28,
   "metadata": {
    "collapsed": false
   },
   "outputs": [
    {
     "data": {
      "text/html": [
       "<div>\n",
       "<table border=\"1\" class=\"dataframe\">\n",
       "  <thead>\n",
       "    <tr style=\"text-align: right;\">\n",
       "      <th></th>\n",
       "      <th>Player_match_SK</th>\n",
       "      <th>PlayerMatch_key</th>\n",
       "      <th>Match_Id</th>\n",
       "      <th>Player_Id</th>\n",
       "      <th>Player_Name</th>\n",
       "      <th>DOB</th>\n",
       "      <th>Batting_hand</th>\n",
       "      <th>Bowling_skill</th>\n",
       "      <th>Country_Name</th>\n",
       "      <th>Role_Desc</th>\n",
       "      <th>...</th>\n",
       "      <th>Season_year</th>\n",
       "      <th>is_manofThematch</th>\n",
       "      <th>Age_As_on_match</th>\n",
       "      <th>IsPlayers_Team_won</th>\n",
       "      <th>Batting_Status</th>\n",
       "      <th>Bowling_Status</th>\n",
       "      <th>Player_Captain</th>\n",
       "      <th>Opposit_captain</th>\n",
       "      <th>Player_keeper</th>\n",
       "      <th>Opposit_keeper</th>\n",
       "    </tr>\n",
       "  </thead>\n",
       "  <tbody>\n",
       "    <tr>\n",
       "      <th>0</th>\n",
       "      <td>12694</td>\n",
       "      <td>33598700006</td>\n",
       "      <td>335987</td>\n",
       "      <td>6</td>\n",
       "      <td>R Dravid</td>\n",
       "      <td>1973-01-11</td>\n",
       "      <td>Right-handed</td>\n",
       "      <td>Right-arm offbreak</td>\n",
       "      <td>India</td>\n",
       "      <td>Captain</td>\n",
       "      <td>...</td>\n",
       "      <td>2008</td>\n",
       "      <td>0</td>\n",
       "      <td>35</td>\n",
       "      <td>0</td>\n",
       "      <td>NaN</td>\n",
       "      <td>NaN</td>\n",
       "      <td>R Dravid</td>\n",
       "      <td>SC Ganguly</td>\n",
       "      <td>MV Boucher</td>\n",
       "      <td>WP Saha</td>\n",
       "    </tr>\n",
       "  </tbody>\n",
       "</table>\n",
       "<p>1 rows × 22 columns</p>\n",
       "</div>"
      ],
      "text/plain": [
       "   Player_match_SK  PlayerMatch_key  Match_Id  Player_Id Player_Name  \\\n",
       "0            12694      33598700006    335987          6    R Dravid   \n",
       "\n",
       "          DOB  Batting_hand       Bowling_skill Country_Name Role_Desc  \\\n",
       "0  1973-01-11  Right-handed  Right-arm offbreak        India   Captain   \n",
       "\n",
       "       ...       Season_year is_manofThematch  Age_As_on_match  \\\n",
       "0      ...              2008                0               35   \n",
       "\n",
       "   IsPlayers_Team_won  Batting_Status  Bowling_Status  Player_Captain  \\\n",
       "0                   0             NaN             NaN        R Dravid   \n",
       "\n",
       "   Opposit_captain Player_keeper Opposit_keeper  \n",
       "0       SC Ganguly    MV Boucher        WP Saha  \n",
       "\n",
       "[1 rows x 22 columns]"
      ]
     },
     "execution_count": 28,
     "metadata": {},
     "output_type": "execute_result"
    }
   ],
   "source": [
    "player_match.head(1)"
   ]
  },
  {
   "cell_type": "code",
   "execution_count": 29,
   "metadata": {
    "collapsed": false
   },
   "outputs": [
    {
     "data": {
      "text/html": [
       "<div>\n",
       "<table border=\"1\" class=\"dataframe\">\n",
       "  <thead>\n",
       "    <tr style=\"text-align: right;\">\n",
       "      <th></th>\n",
       "      <th>Player_match_SK</th>\n",
       "      <th>PlayerMatch_key</th>\n",
       "      <th>Match_Id</th>\n",
       "      <th>Id</th>\n",
       "      <th>Player_Name</th>\n",
       "      <th>DOB</th>\n",
       "      <th>Batting_hand</th>\n",
       "      <th>Bowling_skill</th>\n",
       "      <th>Country_Name</th>\n",
       "      <th>Role_Desc</th>\n",
       "      <th>...</th>\n",
       "      <th>Season_year</th>\n",
       "      <th>is_manofThematch</th>\n",
       "      <th>Age_As_on_match</th>\n",
       "      <th>IsPlayers_Team_won</th>\n",
       "      <th>Batting_Status</th>\n",
       "      <th>Bowling_Status</th>\n",
       "      <th>Player_Captain</th>\n",
       "      <th>Opposit_captain</th>\n",
       "      <th>Player_keeper</th>\n",
       "      <th>Opposit_keeper</th>\n",
       "    </tr>\n",
       "  </thead>\n",
       "  <tbody>\n",
       "    <tr>\n",
       "      <th>0</th>\n",
       "      <td>12694</td>\n",
       "      <td>33598700006</td>\n",
       "      <td>335987</td>\n",
       "      <td>6</td>\n",
       "      <td>R Dravid</td>\n",
       "      <td>1973-01-11</td>\n",
       "      <td>Right-handed</td>\n",
       "      <td>Right-arm offbreak</td>\n",
       "      <td>India</td>\n",
       "      <td>Captain</td>\n",
       "      <td>...</td>\n",
       "      <td>2008</td>\n",
       "      <td>0</td>\n",
       "      <td>35</td>\n",
       "      <td>0</td>\n",
       "      <td>NaN</td>\n",
       "      <td>NaN</td>\n",
       "      <td>R Dravid</td>\n",
       "      <td>SC Ganguly</td>\n",
       "      <td>MV Boucher</td>\n",
       "      <td>WP Saha</td>\n",
       "    </tr>\n",
       "  </tbody>\n",
       "</table>\n",
       "<p>1 rows × 22 columns</p>\n",
       "</div>"
      ],
      "text/plain": [
       "   Player_match_SK  PlayerMatch_key  Match_Id  Id Player_Name         DOB  \\\n",
       "0            12694      33598700006    335987   6    R Dravid  1973-01-11   \n",
       "\n",
       "   Batting_hand       Bowling_skill Country_Name Role_Desc      ...        \\\n",
       "0  Right-handed  Right-arm offbreak        India   Captain      ...         \n",
       "\n",
       "  Season_year is_manofThematch  Age_As_on_match  IsPlayers_Team_won  \\\n",
       "0        2008                0               35                   0   \n",
       "\n",
       "   Batting_Status  Bowling_Status  Player_Captain  Opposit_captain  \\\n",
       "0             NaN             NaN        R Dravid       SC Ganguly   \n",
       "\n",
       "  Player_keeper Opposit_keeper  \n",
       "0    MV Boucher        WP Saha  \n",
       "\n",
       "[1 rows x 22 columns]"
      ]
     },
     "execution_count": 29,
     "metadata": {},
     "output_type": "execute_result"
    }
   ],
   "source": [
    "player_match.rename(columns={'Player_Id':'Id'},inplace = True)\n",
    "player_match.head(1)"
   ]
  },
  {
   "cell_type": "markdown",
   "metadata": {},
   "source": [
    "### Selecting rows and columns and applying a filtering criteria\n",
    "#### Applying multiple filtering criteria\n",
    "You can always query the data based on multiple filtering criteria. This is used very frequently while analysing because one function gives us all the features we need.\n",
    "\n",
    "Let's get the data in which an Indian is man of the Match."
   ]
  },
  {
   "cell_type": "code",
   "execution_count": 30,
   "metadata": {
    "collapsed": false
   },
   "outputs": [
    {
     "name": "stdout",
     "output_type": "stream",
     "text": [
      "The number of matches in which an Indian is man of the Match: 326\n",
      "In percentege : 51.66402535657686\n"
     ]
    }
   ],
   "source": [
    "new_data = player_match[(player_match.Country_Name=='India')&\n",
    "                        (player_match.is_manofThematch==1) ]\n",
    "print(\"The number of matches in which an Indian is man of the Match:\",\n",
    "      len(new_data))\n",
    "print(\"In percentege :\" , (len(new_data)/len(player_match[\n",
    "                (player_match.is_manofThematch==1) ]))*100)"
   ]
  },
  {
   "cell_type": "code",
   "execution_count": 31,
   "metadata": {
    "collapsed": true
   },
   "outputs": [],
   "source": [
    "a = player_match[(player_match.IsPlayers_Team_won==1) & \n",
    "                 (player_match.Player_Name.str.contains('Dhoni'))]['Match_Id']"
   ]
  },
  {
   "cell_type": "code",
   "execution_count": 32,
   "metadata": {
    "collapsed": false
   },
   "outputs": [
    {
     "name": "stdout",
     "output_type": "stream",
     "text": [
      "The number of matches in which the team containing Dhoni has won : 93\n"
     ]
    }
   ],
   "source": [
    "print('The number of matches in which the team containing Dhoni has won :', len(a))"
   ]
  },
  {
   "cell_type": "code",
   "execution_count": 33,
   "metadata": {
    "collapsed": false
   },
   "outputs": [
    {
     "data": {
      "text/plain": [
       "array(['Captain', 'Player', 'Keeper', 'CaptainKeeper'], dtype=object)"
      ]
     },
     "execution_count": 33,
     "metadata": {},
     "output_type": "execute_result"
    }
   ],
   "source": [
    "player_match['Role_Desc'].unique()"
   ]
  },
  {
   "cell_type": "code",
   "execution_count": 34,
   "metadata": {
    "collapsed": false
   },
   "outputs": [
    {
     "data": {
      "text/plain": [
       "Index(['Player_match_SK', 'PlayerMatch_key', 'Match_Id', 'Id', 'Player_Name',\n",
       "       'DOB', 'Batting_hand', 'Bowling_skill', 'Country_Name', 'Role_Desc',\n",
       "       'Player_team', 'Opposit_Team', 'Season_year', 'is_manofThematch',\n",
       "       'Age_As_on_match', 'IsPlayers_Team_won', 'Batting_Status',\n",
       "       'Bowling_Status', 'Player_Captain', 'Opposit_captain', 'Player_keeper',\n",
       "       'Opposit_keeper'],\n",
       "      dtype='object')"
      ]
     },
     "execution_count": 34,
     "metadata": {},
     "output_type": "execute_result"
    }
   ],
   "source": [
    "player_match.columns"
   ]
  }
 ],
 "metadata": {
  "anaconda-cloud": {},
  "kernelspec": {
   "display_name": "Python [default]",
   "language": "python",
   "name": "python3"
  },
  "language_info": {
   "codemirror_mode": {
    "name": "ipython",
    "version": 3
   },
   "file_extension": ".py",
   "mimetype": "text/x-python",
   "name": "python",
   "nbconvert_exporter": "python",
   "pygments_lexer": "ipython3",
   "version": "3.5.5"
  }
 },
 "nbformat": 4,
 "nbformat_minor": 1
}
